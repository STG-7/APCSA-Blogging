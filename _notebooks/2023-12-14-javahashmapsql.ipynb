{
 "cells": [
  {
   "cell_type": "markdown",
   "metadata": {},
   "source": [
    "\n",
    "# What is HashMap\n",
    "A HashMap store items in \"key/value\" pairs, and you can access them by an index of another type (e.g. a String).\n",
    "\n",
    "One object is used as a key (index) to another object (value). It can store different types: String keys and Integer values, or the same type, like: String keys and String values:\n"
   ]
  },
  {
   "cell_type": "markdown",
   "metadata": {},
   "source": [
    "## Creating HashMap in Java\n"
   ]
  },
  {
   "cell_type": "code",
   "execution_count": 24,
   "metadata": {},
   "outputs": [
    {
     "name": "stdout",
     "output_type": "stream",
     "text": [
      "Successfully created a HashMap which stores items in key/value pairs\n"
     ]
    }
   ],
   "source": [
    "import java.util.HashMap; // import the HashMap class\n",
    "\n",
    "public class CreateHashMap{\n",
    "    public static void main(String[] args){\n",
    "        // Generating the HashMap\n",
    "    HashMap<String, String> capitalCities = new HashMap<String, String>();\n",
    "    // Adding key/value pairs tothe HashMap to store\n",
    "            capitalCities.put(\"America\", \"D.C\");\n",
    "            capitalCities.put(\"Germany\", \"Berlin\");\n",
    "            capitalCities.put(\"United Kingdom\", \"London\");\n",
    "            capitalCities.put(\"India\", \"Delhi\");\n",
    "            capitalCities.put(\"Afghanistan\", \"Delhi\");\n",
    "            capitalCities.put(\"Bangladesh\", \"Dhaka\");\n",
    "            \n",
    "            System.out.println(\"Successfully created a HashMap which stores items in key/value pairs\");\n",
    "    }\n",
    "}\n",
    "\n",
    "CreateHashMap.main(null);\n",
    "\n"
   ]
  },
  {
   "cell_type": "markdown",
   "metadata": {},
   "source": [
    "# Methods in HashMap"
   ]
  },
  {
   "cell_type": "code",
   "execution_count": 13,
   "metadata": {},
   "outputs": [
    {
     "name": "stdout",
     "output_type": "stream",
     "text": [
      "25\n",
      "4\n",
      "The set is: [Travis Kelce=34, Shivansh=25, Shaurya=30, Patrick Mahomes=28]\n",
      "Is the key 'Shivansh' present? true\n"
     ]
    }
   ],
   "source": [
    "\n",
    "import java.util.HashMap;\n",
    " \n",
    "public class ExampleHashMap {\n",
    "      public static void main(String[] args) {\n",
    "       \n",
    "      // Create a HashMap\n",
    "      HashMap<String, Integer> hashMap = new HashMap<>();\n",
    "       \n",
    "      // Add elements to the HashMap\n",
    "      hashMap.put(\"Shivansh\", 25);\n",
    "      hashMap.put(\"Shaurya\", 30);\n",
    "      hashMap.put(\"Patrick Mahomes\", 28);\n",
    "      hashMap.put(\"Travis Kelce\", 34);\n",
    "      hashMap.put(\"Tom Brady\", 46);\n",
    "       \n",
    "      // HashMap put() method in Java (Access elements in the HashMap)\n",
    "      System.out.println(hashMap.get(\"Shivansh\")); \n",
    "\n",
    "      // HashMap remove() method in Java (Remove an element from the HashMap)\n",
    "      hashMap.remove(\"Tom Brady\");\n",
    "       \n",
    "      // HashMap size() method in Java (Get the size of the HashMap)\n",
    "      System.out.println(hashMap.size()); \n",
    "\n",
    "      // HashMap entrySet() method in Java (Get the Entry Set)\n",
    "      System.out.println(\"The set is: \" + hashMap.entrySet()); \n",
    "\n",
    "      // HashMap containsKey() method in Java (check whether a particular key is being mapped into the HashMap or not)\n",
    "      System.out.println(\"Is the key 'Shivansh' present? \" + hashMap.containsKey(\"Shivansh\"));\n",
    "      \n",
    "      \n",
    "   }\n",
    "}\n",
    "ExampleHashMap.main(null);"
   ]
  },
  {
   "cell_type": "markdown",
   "metadata": {},
   "source": [
    "### Popcorn Hack 1\n",
    "Declare a Hashmap, and then research 5 different HashMap method which were not listed above and use them in your code just like the one above."
   ]
  },
  {
   "cell_type": "code",
   "execution_count": null,
   "metadata": {},
   "outputs": [],
   "source": [
    "// Code Here"
   ]
  },
  {
   "cell_type": "markdown",
   "metadata": {},
   "source": [
    "# Traversing through HashMap\n",
    "\n",
    "In the code below, hash_map.entrySet() is used to return a set view of the mapped elements. Now, getValue() and getKey() functions, key-value pairs can be iterated."
   ]
  },
  {
   "cell_type": "code",
   "execution_count": 18,
   "metadata": {},
   "outputs": [
    {
     "name": "stdout",
     "output_type": "stream",
     "text": [
      "1 = Jalen Hurts\n",
      "2 = Dak Prescott\n",
      "3 = Josh Allen\n",
      "4 = Lamar Jackson\n",
      "5 = Brock Purdy\n"
     ]
    }
   ],
   "source": [
    "import java.util.HashMap;\n",
    "public class TraverseHashMap{\n",
    "public static void main(String[] args){\n",
    "   // Week 15 NFL Quarterback Rankings\n",
    "   HashMap<Integer, String> hash_map = new HashMap<>();\n",
    "   hash_map.put(1, \"Jalen Hurts\");\n",
    "   hash_map.put(2, \"Dak Prescott\");\n",
    "   hash_map.put(3, \"Josh Allen\");\n",
    "   hash_map.put(4, \"Lamar Jackson\");\n",
    "   hash_map.put(5, \"Brock Purdy\");\n",
    "    for (Map.Entry<Integer, String> set : hash_map.entrySet()) {\n",
    "        System.out.println(set.getKey() + \" = \" + set.getValue());\n",
    "    }\n",
    "}\n",
    "}\n",
    "TraverseHashMap.main(null);\n",
    "\n"
   ]
  },
  {
   "cell_type": "markdown",
   "metadata": {},
   "source": [
    "### Popcorn Hack 2\n",
    "Try to find a different way to traverse a HashMap (Hint: try using a forEach function)"
   ]
  },
  {
   "cell_type": "code",
   "execution_count": null,
   "metadata": {},
   "outputs": [],
   "source": [
    "// Code Here"
   ]
  }
 ],
 "metadata": {
  "kernelspec": {
   "display_name": "Java",
   "language": "java",
   "name": "java"
  },
  "language_info": {
   "codemirror_mode": "java",
   "file_extension": ".jshell",
   "mimetype": "text/x-java-source",
   "name": "java",
   "pygments_lexer": "java",
   "version": "17.0.9+9-Ubuntu-120.04"
  }
 },
 "nbformat": 4,
 "nbformat_minor": 2
}
