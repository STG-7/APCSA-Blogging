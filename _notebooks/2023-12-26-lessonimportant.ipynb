{
 "cells": [
  {
   "cell_type": "markdown",
   "metadata": {},
   "source": [
    "---\n",
    "layout: post\n",
    "title: Question 24 College Board Quiz\n",
    "toc: true\n",
    "comments: true\n",
    "description: Lesson by Shaurya Goel\n",
    "courses: { csa: {week: 12} }\n",
    "type: hacks\n",
    "---"
   ]
  },
  {
   "cell_type": "markdown",
   "metadata": {},
   "source": [
    "# Q24 Adding overloaded method one to SomeClass (focus: signature)\n",
    "\n",
    "<img src=\"{{site.baseurl}}/images/asdf.PNG\">\n",
    "\n",
    "\n",
    "\n"
   ]
  }
 ],
 "metadata": {
  "language_info": {
   "name": "python"
  }
 },
 "nbformat": 4,
 "nbformat_minor": 2
}
