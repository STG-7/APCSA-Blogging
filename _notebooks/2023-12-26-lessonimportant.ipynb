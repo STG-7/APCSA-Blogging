{
 "cells": [
  {
   "cell_type": "markdown",
   "metadata": {},
   "source": [
    "---\n",
    "layout: post\n",
    "title: Question 24 College Board Quiz\n",
    "toc: true\n",
    "comments: true\n",
    "description: Lesson by Shaurya Goel\n",
    "courses: { csa: {week: 12} }\n",
    "type: hacks\n",
    "---"
   ]
  },
  {
   "cell_type": "markdown",
   "metadata": {},
   "source": [
    "## Key Concepts:\n",
    "\n",
    "### Method Signature:\n",
    "- The method signature is a combination of the method name and its parameter list.\n",
    "- It does not include the return type.\n",
    "\n",
    "### Parameter Types and Order:\n",
    "\n",
    "- In method overloading, two methods with the same name must have different parameter types or a different number of parameters.\n",
    "- The order of parameters matters\n",
    "\n",
    "\n"
   ]
  },
  {
   "cell_type": "markdown",
   "metadata": {},
   "source": [
    "# Q24 Adding overloaded method one to SomeClass (focus: signature)\n",
    "\n",
    "<img src=\"{{site.baseurl}}/images/asdf.PNG\">\n",
    "\n",
    "\n",
    "\n"
   ]
  },
  {
   "cell_type": "markdown",
   "metadata": {},
   "source": [
    "### Consider the following code:"
   ]
  },
  {
   "cell_type": "code",
   "execution_count": null,
   "metadata": {},
   "outputs": [],
   "source": [
    "public class SomeMethods {\n",
    "    public void one(int first) { /* implementation not shown */ }\n",
    "    public void one(int first, int second) { /* implementation not shown */ }\n",
    "    public void one(int first, String second) { /* implementation not shown */ }\n",
    "}\n"
   ]
  },
  {
   "cell_type": "markdown",
   "metadata": {},
   "source": [
    "### Which of the following methods can be added to the SomeMethods class without causing a compile-time error?"
   ]
  },
  {
   "cell_type": "markdown",
   "metadata": {},
   "source": [
    "### I"
   ]
  },
  {
   "cell_type": "code",
   "execution_count": null,
   "metadata": {},
   "outputs": [],
   "source": [
    "public void one(int value) { /* implementation not shown */ }"
   ]
  },
  {
   "cell_type": "markdown",
   "metadata": {},
   "source": [
    "This method cannot be added because it has the same signature as the first existing method (public void one(int first))."
   ]
  },
  {
   "cell_type": "markdown",
   "metadata": {},
   "source": [
    "### II"
   ]
  },
  {
   "cell_type": "code",
   "execution_count": null,
   "metadata": {},
   "outputs": [],
   "source": [
    "public void one(String first, int second) { /* implementation not shown */ }"
   ]
  },
  {
   "cell_type": "markdown",
   "metadata": {},
   "source": [
    "This method can be added because its signature is different from the existing methods. It has different parameter types and their order.\n"
   ]
  },
  {
   "cell_type": "markdown",
   "metadata": {},
   "source": [
    "### III"
   ]
  },
  {
   "cell_type": "code",
   "execution_count": null,
   "metadata": {},
   "outputs": [],
   "source": [
    "public void one(int first, int second, int third) { /* implementation not shown */ }"
   ]
  },
  {
   "cell_type": "markdown",
   "metadata": {},
   "source": [
    "This method can be added because it has three int parameters, which is different from the existing methods.\n"
   ]
  },
  {
   "cell_type": "markdown",
   "metadata": {},
   "source": [
    "**Therefore the correct answer is D) II and III only**"
   ]
  },
  {
   "cell_type": "markdown",
   "metadata": {},
   "source": [
    "## HACKS"
   ]
  },
  {
   "cell_type": "markdown",
   "metadata": {},
   "source": [
    "- Create a Java class named CustomMethods.\n",
    "- Add three methods with the name customMethod to the class, each with different parameter lists.\n",
    "- Create a Subclass called ChangeMethods.\n",
    "- Override one of the methods without any errors"
   ]
  }
 ],
 "metadata": {
  "kernelspec": {
   "display_name": "Java",
   "language": "java",
   "name": "java"
  },
  "language_info": {
   "name": "java"
  }
 },
 "nbformat": 4,
 "nbformat_minor": 2
}
