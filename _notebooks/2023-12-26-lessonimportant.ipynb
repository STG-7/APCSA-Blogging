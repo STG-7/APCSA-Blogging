{
 "cells": [
  {
   "cell_type": "markdown",
   "metadata": {},
   "source": [
    "---\n",
    "layout: post\n",
    "title: Question 24 College Board Quiz\n",
    "toc: true\n",
    "comments: true\n",
    "description: Lesson by Shaurya Goel\n",
    "courses: { csa: {week: 12} }\n",
    "type: hacks\n",
    "---"
   ]
  },
  {
   "cell_type": "markdown",
   "metadata": {},
   "source": [
    "## Key Concepts:\n",
    "\n",
    "### Method Signature:\n",
    "- The method signature is a combination of the method name and its parameter list.\n",
    "- It does not include the return type.\n",
    "\n",
    "### Parameter Types and Order:\n",
    "\n",
    "- In method overloading, two methods with the same name must have different parameter types or a different number of parameters.\n",
    "- The order of parameters matters\n",
    "\n",
    "### Example:\n"
   ]
  },
  {
   "cell_type": "code",
   "execution_count": 1,
   "metadata": {
    "vscode": {
     "languageId": "java"
    }
   },
   "outputs": [
    {
     "name": "stdout",
     "output_type": "stream",
     "text": [
      "Added employee: Alice with ID: 60000\n",
      "Added employee: Bob with salary: $75000.5\n",
      "Added employee: Charlie with salary: $90000.0 in Engineering department\n"
     ]
    }
   ],
   "source": [
    "public class EmployeeDatabase {\n",
    "\n",
    "    // Method signature: addEmployee(String, double)\n",
    "    public void addEmployee(String name, double salary) {\n",
    "        // Implementation to add an employee with name and salary\n",
    "        System.out.println(\"Added employee: \" + name + \" with salary: $\" + salary);\n",
    "    }\n",
    "\n",
    "    // Method signature: addEmployee(String, int)\n",
    "    public void addEmployee(String name, int employeeId) {\n",
    "        // Implementation to add an employee with name and employee ID\n",
    "        System.out.println(\"Added employee: \" + name + \" with ID: \" + employeeId);\n",
    "    }\n",
    "\n",
    "    // Method signature: addEmployee(String, double, String)\n",
    "    public void addEmployee(String name, double salary, String department) {\n",
    "        // Implementation to add an employee with name, salary, and department\n",
    "        System.out.println(\"Added employee: \" + name + \" with salary: $\" + salary + \" in \" + department + \" department\");\n",
    "    }\n",
    "\n",
    "    public static void main(String[] args) {\n",
    "        EmployeeDatabase database = new EmployeeDatabase();\n",
    "\n",
    "        // Adding employees using different method signatures\n",
    "        database.addEmployee(\"Alice\", 60000);  // Uses addEmployee(String, int)\n",
    "        database.addEmployee(\"Bob\", 75000.50); // Uses addEmployee(String, double)\n",
    "        database.addEmployee(\"Charlie\", 90000, \"Engineering\"); // Uses addEmployee(String, double, String)\n",
    "    }\n",
    "}\n",
    "EmployeeDatabase.main(null)"
   ]
  },
  {
   "cell_type": "markdown",
   "metadata": {},
   "source": [
    "In this example:\n",
    "\n",
    "- We have a class EmployeeDatabase with three addEmployee methods, each having a different method signature.\n",
    "- The first method takes a String name and a double salary.\n",
    "- The second method takes a String name and an int employeeId.\n",
    "- The third method takes a String name, a double salary, and a String department.\n",
    "\n",
    "By having different method signatures, we can effectively overload the addEmployee method, allowing it to handle various scenarios with different parameter types and orders. The main method demonstrates how we can use each version of the addEmployee method based on the specific information available when adding employees to the database."
   ]
  },
  {
   "cell_type": "markdown",
   "metadata": {},
   "source": [
    "# Q24 Adding overloaded method one to SomeClass (focus: signature)\n",
    "\n",
    "<img src=\"{{site.baseurl}}/images/asdf.PNG\">\n",
    "\n",
    "\n",
    "\n"
   ]
  },
  {
   "cell_type": "markdown",
   "metadata": {},
   "source": [
    "### Consider the following code:"
   ]
  },
  {
   "cell_type": "code",
   "execution_count": null,
   "metadata": {
    "vscode": {
     "languageId": "java"
    }
   },
   "outputs": [],
   "source": [
    "public class SomeMethods {\n",
    "    public void one(int first) { /* implementation not shown */ }\n",
    "    public void one(int first, int second) { /* implementation not shown */ }\n",
    "    public void one(int first, String second) { /* implementation not shown */ }\n",
    "}\n"
   ]
  },
  {
   "cell_type": "markdown",
   "metadata": {},
   "source": [
    "### Which of the following methods can be added to the SomeMethods class without causing a compile-time error?"
   ]
  },
  {
   "cell_type": "markdown",
   "metadata": {},
   "source": [
    "### I"
   ]
  },
  {
   "cell_type": "code",
   "execution_count": null,
   "metadata": {
    "vscode": {
     "languageId": "java"
    }
   },
   "outputs": [],
   "source": [
    "public void one(int value) { /* implementation not shown */ }"
   ]
  },
  {
   "cell_type": "markdown",
   "metadata": {},
   "source": [
    "This method cannot be added because it has the same signature as the first existing method (public void one(int first))."
   ]
  },
  {
   "cell_type": "markdown",
   "metadata": {},
   "source": [
    "### II"
   ]
  },
  {
   "cell_type": "code",
   "execution_count": null,
   "metadata": {
    "vscode": {
     "languageId": "java"
    }
   },
   "outputs": [],
   "source": [
    "public void one(String first, int second) { /* implementation not shown */ }"
   ]
  },
  {
   "cell_type": "markdown",
   "metadata": {},
   "source": [
    "This method can be added because its signature is different from the existing methods. It has different parameter types and their order.\n"
   ]
  },
  {
   "cell_type": "markdown",
   "metadata": {},
   "source": [
    "### III"
   ]
  },
  {
   "cell_type": "code",
   "execution_count": null,
   "metadata": {
    "vscode": {
     "languageId": "java"
    }
   },
   "outputs": [],
   "source": [
    "public void one(int first, int second, int third) { /* implementation not shown */ }"
   ]
  },
  {
   "cell_type": "markdown",
   "metadata": {},
   "source": [
    "This method can be added because it has three int parameters, which is different from the existing methods.\n"
   ]
  },
  {
   "cell_type": "markdown",
   "metadata": {},
   "source": [
    "**Therefore the correct answer is D) II and III only**"
   ]
  },
  {
   "cell_type": "markdown",
   "metadata": {},
   "source": [
    "## HACKS"
   ]
  },
  {
   "cell_type": "markdown",
   "metadata": {},
   "source": [
    "- Create a Java class named CustomMethods.\n",
    "- Add three methods with the name customMethod to the class, each with different parameter lists.\n",
    "- Create a Subclass called ChangeMethods.\n",
    "- Override one of the methods without any errors"
   ]
  }
 ],
 "metadata": {
  "kernelspec": {
   "display_name": "Java",
   "language": "java",
   "name": "java"
  },
  "language_info": {
   "codemirror_mode": "java",
   "file_extension": ".jshell",
   "mimetype": "text/x-java-source",
   "name": "Java",
   "pygments_lexer": "java",
   "version": "17.0.8+7-Ubuntu-122.04"
  }
 },
 "nbformat": 4,
 "nbformat_minor": 2
}
