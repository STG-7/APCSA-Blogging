{
 "cells": [
  {
   "cell_type": "markdown",
   "metadata": {},
   "source": [
    "---\n",
    "layout: post\n",
    "title: 2015 FRQ Question 4\n",
    "toc: true\n",
    "comments: true\n",
    "description:\n",
    "courses: { csa: {week: 21} }\n",
    "type: hacks\n",
    "---"
   ]
  },
  {
   "cell_type": "code",
   "execution_count": 4,
   "metadata": {
    "vscode": {
     "languageId": "java"
    }
   },
   "outputs": [
    {
     "name": "stdout",
     "output_type": "stream",
     "text": [
      "White pixels before processing: 8\n",
      "White pixels after processing: 6\n"
     ]
    }
   ],
   "source": [
    "public class GrayImage {\n",
    "    public static final int BLACK = 0;\n",
    "    public static final int WHITE = 255;\n",
    "\n",
    "    private int[][] pixelValues;\n",
    "\n",
    "    public GrayImage(int[][] pixelValues) {\n",
    "        this.pixelValues = pixelValues;\n",
    "    }\n",
    "\n",
    "    public int countWhitePixels() {\n",
    "        int whitePixelCount = 0;\n",
    "        for (int[] row : this.pixelValues) { // iterating through rows\n",
    "            for (int pv : row) {\n",
    "                if (pv == this.WHITE) { // if pixel is white, increment the count\n",
    "                    whitePixelCount++;\n",
    "                }\n",
    "            }\n",
    "        }\n",
    "        return whitePixelCount;\n",
    "    }\n",
    "\n",
    "    public void processImage() {\n",
    "        // Loop through each pixel, excluding the last 2 rows and columns\n",
    "        for (int row = 0; row < this.pixelValues.length - 2; row++) {\n",
    "            for (int col = 0; col < this.pixelValues[0].length - 2; col++) {\n",
    "                // Subtract pixel value from the corresponding pixel 2 rows and 2 columns away\n",
    "                this.pixelValues[row][col] -= this.pixelValues[row + 2][col + 2];\n",
    "                // If the result is less than black, set it to black\n",
    "                if (this.pixelValues[row][col] < BLACK) {\n",
    "                    this.pixelValues[row][col] = BLACK;\n",
    "                }\n",
    "            }\n",
    "        }\n",
    "    }\n",
    "\n",
    "    public static void main(String[] args) {\n",
    "        int[][] pixels = {\n",
    "            {255, 0, 235, 0, 218},\n",
    "            {17, 255, 186, 0, 255},\n",
    "            {255, 0, 87, 255, 0},\n",
    "            {0, 75, 255, 128, 255},\n",
    "            {255, 38, 0, 0, 206}\n",
    "        };\n",
    "        \n",
    "        GrayImage image = new GrayImage(pixels);\n",
    "\n",
    "        System.out.println(\"White pixels before processing: \" + image.countWhitePixels());\n",
    "\n",
    "        image.processImage();\n",
    "\n",
    "        System.out.println(\"White pixels after processing: \" + image.countWhitePixels());\n",
    "    }\n",
    "}\n",
    "GrayImage.main(null)"
   ]
  },
  {
   "cell_type": "markdown",
   "metadata": {},
   "source": [
    "GrayImage Class:\n",
    "\n",
    "- This class represents a grayscale image with methods to count white pixels and process the image according to the specified rules.\n",
    "countWhitePixels Method:\n",
    "\n",
    "- This method iterates through each pixel in the pixelValues array.\n",
    "It checks if the pixel value is equal to WHITE (255).\n",
    "If a pixel is white, it increments the whitePixelCount variable.\n",
    "Finally, it returns the total count of white pixels in the image.\n",
    "processImage Method:\n",
    "\n",
    "- This method processes the image as described in the problem.\n",
    "It iterates through each pixel in the pixelValues array, excluding the last 2 rows and columns.\n",
    "For each pixel at position (row, col), it subtracts the value of the pixel at position (row + 2, col + 2) if such a position exists.\n",
    "\n",
    "- If the result of the subtraction is less than BLACK (0), it sets the pixel value to BLACK.\n",
    "This modifies the image according to the specified rules.\n",
    "main Method:\n",
    "\n",
    "- In the main method, a sample 2D array pixels is created to represent a grayscale image.\n",
    "\n",
    "An instance of the GrayImage class is created using this array.\n",
    "The initial count of white pixels is printed using the countWhitePixels method.\n",
    "The processImage method is then called to modify the image.\n",
    "Finally, the count of white pixels after processing is printed again."
   ]
  }
 ],
 "metadata": {
  "kernelspec": {
   "display_name": "Java",
   "language": "java",
   "name": "java"
  },
  "language_info": {
   "codemirror_mode": "java",
   "file_extension": ".jshell",
   "mimetype": "text/x-java-source",
   "name": "Java",
   "pygments_lexer": "java",
   "version": "17.0.8+7-Ubuntu-122.04"
  }
 },
 "nbformat": 4,
 "nbformat_minor": 2
}
