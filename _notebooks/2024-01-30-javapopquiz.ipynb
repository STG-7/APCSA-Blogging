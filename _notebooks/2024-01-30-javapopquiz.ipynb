{
 "cells": [
  {
   "cell_type": "markdown",
   "metadata": {},
   "source": [
    "---\n",
    "layout: post\n",
    "title: Pop Quiz\n",
    "toc: true\n",
    "comments: true\n",
    "description: Lesson by Shaurya Goel\n",
    "courses: { csa: {week: 18} }\n",
    "type: hacks\n",
    "---"
   ]
  },
  {
   "cell_type": "code",
   "execution_count": 1,
   "metadata": {
    "vscode": {
     "languageId": "java"
    }
   },
   "outputs": [
    {
     "ename": "CompilationException",
     "evalue": "",
     "output_type": "error",
     "traceback": [
      "\u001b[1m\u001b[30m|   \u001b[1m\u001b[30m\u001b[0m\u001b[1m\u001b[30m\u001b[41m\u001b[0m\u001b[1m\u001b[30mpackage com.example.model;\u001b[0m",
      "\u001b[1m\u001b[31millegal start of expression\u001b[0m",
      ""
     ]
    }
   ],
   "source": [
    "package com.example.model;\n",
    "\n",
    "import lombok.AllArgsConstructor;\n",
    "import lombok.Data;\n",
    "import lombok.NoArgsConstructor;\n",
    "\n",
    "import javax.persistence.Entity;\n",
    "import javax.persistence.GeneratedValue;\n",
    "import javax.persistence.GenerationType;\n",
    "import javax.persistence.Id;\n",
    "import javax.validation.constraints.Max;\n",
    "import javax.validation.constraints.Min;\n",
    "import javax.validation.constraints.NotBlank;\n",
    "import javax.validation.constraints.NotNull;\n",
    "import java.util.List;\n",
    "\n",
    "@Data\n",
    "@NoArgsConstructor\n",
    "@AllArgsConstructor\n",
    "@Entity\n",
    "public class NFLTeam {\n",
    "    @Id\n",
    "    @GeneratedValue(strategy = GenerationType.AUTO)\n",
    "    private Long id;\n",
    "\n",
    "    @NotBlank(message = \"Team name is required\")\n",
    "    private String teamName;\n",
    "\n",
    "    @NotBlank(message = \"City is required\")\n",
    "    private String city;\n",
    "\n",
    "    @NotBlank(message = \"Conference is required\")\n",
    "    private String conference;\n",
    "\n",
    "    @NotBlank(message = \"Division is required\")\n",
    "    private String division;\n",
    "\n",
    "    @NotNull(message = \"Founding year is required\")\n",
    "    @Min(value = 1900, message = \"Founding year should be greater than or equal to 1900\")\n",
    "    private Integer foundingYear;\n",
    "\n",
    "    @Min(value = 0, message = \"Championships won cannot be negative\")\n",
    "    private int championshipsWon;\n",
    "\n",
    "    @NotNull(message = \"Player roster is required\")\n",
    "    private List<String> playerRoster;\n",
    "\n",
    "    // Constructors, getters, setters, toString, hashCode, equals, etc.\n",
    "}\n"
   ]
  }
 ],
 "metadata": {
  "kernelspec": {
   "display_name": "Java",
   "language": "java",
   "name": "java"
  },
  "language_info": {
   "codemirror_mode": "java",
   "file_extension": ".jshell",
   "mimetype": "text/x-java-source",
   "name": "Java",
   "pygments_lexer": "java",
   "version": "17.0.8+7-Ubuntu-122.04"
  }
 },
 "nbformat": 4,
 "nbformat_minor": 2
}
