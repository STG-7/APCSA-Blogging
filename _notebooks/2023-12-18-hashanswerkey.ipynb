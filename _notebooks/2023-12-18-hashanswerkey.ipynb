{
 "cells": [
  {
   "cell_type": "markdown",
   "metadata": {},
   "source": [
    "---\n",
    "layout: post\n",
    "title: HashMap\n",
    "toc: true\n",
    "comments: true\n",
    "description: Lesson by Shaurya, James, and Shivansh\n",
    "courses: { csa: {week: 16} }\n",
    "type: tangibles\n",
    "---"
   ]
  },
  {
   "cell_type": "markdown",
   "metadata": {},
   "source": [
    "# Key Concepts:\n",
    "\n",
    "## Hashing\n",
    "- HashMap uses a hash function to map keys to their respective buckets.\n",
    "- A good hash function generates a unique hash code for each key, but collisions can still occur.\n",
    "The hash map in Java does not maintain insertion order.\n",
    "\n",
    "## Performance\n",
    "\n",
    "- HashMap provides constant-time performance (O(1)) for get() and put() operations.\n",
    "- Performance can degrade to O(n) in the worst case, especially if there are many hash collisions.\n",
    "\n",
    "## Key and Value Types\n",
    "\n",
    "- HashMap allows any non-null object as a key and any object (including null) as a value.\n",
    "- For a class to be used as a key, it must implement the equals() and hashCode() methods.\n",
    "\n",
    "## Iteration:\n",
    "\n",
    "- HashMap provides methods like keySet(), values(), and entrySet() for iterating over key-value pairs.\n",
    "- The entrySet() method returns a Set view of key-value pairs, allowing iteration and modification.\n",
    "\n",
    "## Thread Safety\n",
    "\n",
    "- HashMap is not thread-safe. For thread-safe operations, use ConcurrentHashMap."
   ]
  },
  {
   "cell_type": "markdown",
   "metadata": {},
   "source": [
    "# HashMaps in Java - Pet Registry Example"
   ]
  },
  {
   "cell_type": "code",
   "execution_count": 9,
   "metadata": {
    "vscode": {
     "languageId": "java"
    }
   },
   "outputs": [],
   "source": [
    "public class Pet {\n",
    "    private final String name;\n",
    "    private final int age;\n",
    "    private final String color;\n",
    "\n",
    "    public Pet(String name, int age, String color) {\n",
    "        this.name = name;\n",
    "        this.age = age;\n",
    "        this.color = color;\n",
    "    }\n",
    "\n",
    "    public String getName() {\n",
    "        return this.name;\n",
    "    }\n",
    "\n",
    "    public int getAge() {\n",
    "        return this.age;\n",
    "    }\n",
    "\n",
    "    public String getColor() {\n",
    "        return this.color;\n",
    "    }\n",
    "}\n"
   ]
  },
  {
   "cell_type": "code",
   "execution_count": 10,
   "metadata": {
    "vscode": {
     "languageId": "java"
    }
   },
   "outputs": [
    {
     "name": "stdout",
     "output_type": "stream",
     "text": [
      "Hobbes is a Calico Kitty and is 1 years old.\n",
      "Leo is a Gold Lion and is 8 years old.\n",
      "Porky is a Pink Pig and is 3 years old.\n",
      "Ro-Ro is a Red Robin and is 7 years old.\n",
      "Duke is a Brown Dog and is 14 years old.\n",
      "Midnight is a Black Cat and is 10 years old.\n",
      "\n",
      "Removed: Hobbes, REPL.$JShell$16E$Pet@63b16b54\n",
      "Leo is a Gold Lion and is 8 years old.\n",
      "Porky is a Pink Pig and is 3 years old.\n",
      "Ro-Ro is a Red Robin and is 7 years old.\n",
      "Duke is a Brown Dog and is 14 years old.\n",
      "Midnight is a Black Cat and is 10 years old.\n",
      "\n"
     ]
    }
   ],
   "source": [
    "public class PetsRegistry {\n",
    "    private HashMap<String, Pet> petRegistry = new HashMap<>();\n",
    "\n",
    "    public PetsRegistry() {\n",
    "        // Add some pets to the registry\n",
    "        petRegistry.put(\"Leo\", new Pet(\"Lion\", 8, \"Gold\"));\n",
    "        petRegistry.put(\"Porky\", new Pet(\"Pig\", 3, \"Pink\"));\n",
    "        petRegistry.put(\"Ro-Ro\", new Pet(\"Robin\", 7, \"Red\"));\n",
    "        petRegistry.put(\"Midnight\", new Pet(\"Cat\", 10, \"Black\"));\n",
    "        petRegistry.put(\"Hobbes\", new Pet(\"Kitty\", 1, \"Calico\"));\n",
    "        petRegistry.put(\"Duke\", new Pet(\"Dog\", 14, \"Brown\"));\n",
    "    }\n",
    "\n",
    "    public Pet removePet(String name) {\n",
    "        // Remove a pet by name\n",
    "        return petRegistry.remove(name);\n",
    "    }\n",
    "\n",
    "    public void printRegistry() {\n",
    "        // Iterate over the registry and print pet information\n",
    "        for (String name : petRegistry.keySet()) {\n",
    "            Pet pet = petRegistry.get(name);\n",
    "            System.out.println(name + \" is a \" + pet.getColor() + \" \" + pet.getName() +\n",
    "                    \" and is \" + pet.getAge() + \" years old.\");\n",
    "        }\n",
    "        System.out.println();\n",
    "    }\n",
    "\n",
    "    public static void main(String[] args) {\n",
    "        // Initialize the pet registry\n",
    "        PetsRegistry petsRegistry = new PetsRegistry();\n",
    "        petsRegistry.printRegistry();\n",
    "\n",
    "        // Remove a pet\n",
    "        String petNameToRemove = \"Hobbes\";\n",
    "        Pet removedPet = petsRegistry.removePet(petNameToRemove);\n",
    "        if (removedPet == null) {\n",
    "            System.out.println(petNameToRemove + \" not found\");\n",
    "        } else {\n",
    "            System.out.println(\"Removed: \" + petNameToRemove + \", \" + removedPet);\n",
    "        }\n",
    "\n",
    "        // Print the updated registry\n",
    "        petsRegistry.printRegistry();\n",
    "    }\n",
    "}\n",
    "PetsRegistry.main(null)"
   ]
  },
  {
   "cell_type": "markdown",
   "metadata": {},
   "source": [
    "# Example 2 - Student Registry"
   ]
  },
  {
   "cell_type": "code",
   "execution_count": 13,
   "metadata": {
    "vscode": {
     "languageId": "java"
    }
   },
   "outputs": [
    {
     "name": "stdout",
     "output_type": "stream",
     "text": [
      "Student ID: 1, Name: Alice, Age: 20\n",
      "Student ID: 2, Name: Bob, Age: 22\n",
      "Student ID: 3, Name: Charlie, Age: 21\n"
     ]
    }
   ],
   "source": [
    "import java.util.HashMap;\n",
    "import java.util.Map;\n",
    "import java.util.Objects;\n",
    "\n",
    "public class Student {\n",
    "    private final int id;\n",
    "    private final String name;\n",
    "    private final int age;\n",
    "\n",
    "    public Student(int id, String name, int age) {\n",
    "        this.id = id;\n",
    "        this.name = name;\n",
    "        this.age = age;\n",
    "    }\n",
    "\n",
    "    public int getId() {\n",
    "        return id;\n",
    "    }\n",
    "\n",
    "    public String getName() {\n",
    "        return name;\n",
    "    }\n",
    "\n",
    "    public int getAge() {\n",
    "        return age;\n",
    "    }\n",
    "\n",
    "    @Override\n",
    "    public boolean equals(Object o) {\n",
    "        if (this == o) return true;\n",
    "        if (o == null || getClass() != o.getClass()) return false;\n",
    "        Student student = (Student) o;\n",
    "        return id == student.id &&\n",
    "                age == student.age &&\n",
    "                Objects.equals(name, student.name);\n",
    "    }\n",
    "\n",
    "    @Override\n",
    "    public int hashCode() {\n",
    "        return Objects.hash(id, name, age);\n",
    "    }\n",
    "}\n",
    "\n",
    "public class StudentRegistry {\n",
    "    private final Map<Integer, Student> studentMap = new HashMap<>();\n",
    "\n",
    "    public StudentRegistry() {\n",
    "        // Add some students to the registry\n",
    "        studentMap.put(1, new Student(1, \"Alice\", 20));\n",
    "        studentMap.put(2, new Student(2, \"Bob\", 22));\n",
    "        studentMap.put(3, new Student(3, \"Charlie\", 21));\n",
    "    }\n",
    "\n",
    "    public Student getStudent(int studentId) {\n",
    "        return studentMap.get(studentId);\n",
    "    }\n",
    "\n",
    "    public void printRegistry() {\n",
    "        // Iterate over the registry and print student information\n",
    "        for (Map.Entry<Integer, Student> entry : studentMap.entrySet()) {\n",
    "            int id = entry.getKey();\n",
    "            Student student = entry.getValue();\n",
    "            System.out.println(\"Student ID: \" + id + \", Name: \" + student.getName() + \", Age: \" + student.getAge());\n",
    "        }\n",
    "    }\n",
    "}\n",
    "\n",
    "// Instantiate and use the StudentRegistry class\n",
    "StudentRegistry studentRegistry = new StudentRegistry();\n",
    "studentRegistry.printRegistry();\n",
    " "
   ]
  },
  {
   "cell_type": "markdown",
   "metadata": {},
   "source": [
    "# Popcorn HACK 1"
   ]
  },
  {
   "cell_type": "code",
   "execution_count": null,
   "metadata": {
    "vscode": {
     "languageId": "java"
    }
   },
   "outputs": [],
   "source": [
    "import java.util.HashMap;\n",
    "import java.util.Map;\n",
    "\n",
    "public class HashMapTest {\n",
    "    public static void main(String[] args) {\n",
    "        // Create a new HashMap with Integer keys and String values\n",
    "        Map<Integer, String> myMap = new HashMap<>();\n",
    "\n",
    "        // Add some key-value pairs to the HashMap\n",
    "        myMap.put(1, \"Apple\");\n",
    "        myMap.put(2, \"Banana\");\n",
    "        myMap.put(3, \"Cherry\");\n",
    "\n",
    "        // Fill in the blanks: Retrieve and print the value for key 2\n",
    "        String valueForKey2 = myMap.get(___);\n",
    "        System.out.println(\"Value for key 2: \" + valueForKey2);\n",
    "\n",
    "        // Fill in the blanks: Check if the HashMap contains key 4\n",
    "        boolean containsKey4 = myMap.containsKey(___);\n",
    "        System.out.println(\"Does the map contain key 4? \" + containsKey4);\n",
    "\n",
    "        // Fill in the blanks: Remove the entry with key 1 from the HashMap\n",
    "        myMap.remove(___);\n",
    "\n",
    "        // Print the updated contents of the HashMap\n",
    "        System.out.println(\"Updated HashMap:\");\n",
    "        for (Map.Entry<Integer, String> entry : myMap.entrySet()) {\n",
    "            System.out.println(\"Key: \" + entry.getKey() + \", Value: \" + entry.getValue());\n",
    "        }\n",
    "    }\n",
    "}\n"
   ]
  },
  {
   "cell_type": "markdown",
   "metadata": {},
   "source": [
    "# Popcorn HACK 2 - Quiz\n",
    "\n",
    "## Multiple Choice:\n",
    "\n",
    "### Question 1: Hashing in HashMap\n",
    "\n",
    "What is the primary purpose of a hash function in a HashMap?\n",
    "\n",
    "- A) To encrypt the keys\n",
    "- B) To map keys to corresponding buckets\n",
    "- C) To validate the keys\n",
    "- D) To generate random numbers\n",
    "\n",
    "### Question 2: Performance of HashMap\n",
    "\n",
    "What is the time complexity of the get() and put() operations in a well-distributed HashMap?\n",
    "\n",
    "- A) O(log n)\n",
    "- B) O(n)\n",
    "- C) O(1)\n",
    "- D) O(n^2)\n",
    "\n",
    "## Free Response:\n",
    "\n",
    "### Question 3: Key and Value Types in HashMap\n",
    "\n",
    "Describe the types of objects that can be used as keys and values in a HashMap. Additionally, explain the methods that a class should implement if used as a key.\n",
    "\n",
    "______________________________________________________________________________\n",
    "______________________________________________________________________________\n",
    "______________________________________________________________________________\n",
    "\n",
    "\n",
    "### Question 4: Iteration in HashMap\n",
    "\n",
    "Provide brief explanations for two methods in HashMap that can be used to iterate over its key-value pairs.\n",
    "\n",
    "______________________________________________________________________________\n",
    "______________________________________________________________________________\n",
    "______________________________________________________________________________\n",
    "\n",
    "### Question 5: Thread Safety in HashMap\n",
    "\n",
    "Explain why HashMap is not thread-safe and what issues might arise when multiple threads access the same HashMap instance concurrently. Suggest an alternative class that can be used for concurrent access and explain its benefits.\n",
    "\n",
    "______________________________________________________________________________\n",
    "______________________________________________________________________________\n",
    "_____________________________________________________________________________"
   ]
  }
 ],
 "metadata": {
  "kernelspec": {
   "display_name": "Java",
   "language": "java",
   "name": "java"
  },
  "language_info": {
   "codemirror_mode": "java",
   "file_extension": ".jshell",
   "mimetype": "text/x-java-source",
   "name": "Java",
   "pygments_lexer": "java",
   "version": "17.0.8+7-Ubuntu-122.04"
  }
 },
 "nbformat": 4,
 "nbformat_minor": 2
}
