{
 "cells": [
  {
   "cell_type": "markdown",
   "metadata": {},
   "source": [
    "---\n",
    "layout: post\n",
    "title: 2015 FRQ Question 1\n",
    "toc: true\n",
    "comments: true\n",
    "description:\n",
    "courses: { csa: {week: 21} }\n",
    "type: hacks\n",
    "---"
   ]
  },
  {
   "cell_type": "markdown",
   "metadata": {},
   "source": [
    "**a) Write a static method arraySum that calculates and returns the sum of the entries in a specified one-dimensional array**"
   ]
  },
  {
   "cell_type": "code",
   "execution_count": 1,
   "metadata": {
    "vscode": {
     "languageId": "java"
    }
   },
   "outputs": [],
   "source": [
    "public static int arraySum(int[] arr) {\n",
    "    int sum = 0;\n",
    "    for (int num : arr) {\n",
    "        sum += num;\n",
    "    }\n",
    "    return sum;\n",
    "}\n"
   ]
  },
  {
   "cell_type": "markdown",
   "metadata": {},
   "source": [
    "**(b) Write a static method rowSums that calculates the sums of each of the rows in a given two-dimensional array and returns these sums in a one-dimensional array**"
   ]
  },
  {
   "cell_type": "code",
   "execution_count": null,
   "metadata": {
    "vscode": {
     "languageId": "java"
    }
   },
   "outputs": [],
   "source": [
    "public static int[] rowSums(int[][] arr2D) {\n",
    "    int[] sums = new int[arr2D.length];\n",
    "    for (int i = 0; i < arr2D.length; i++) {\n",
    "        sums[i] = arraySum(arr2D[i]);\n",
    "    }\n",
    "    return sums;\n",
    "}\n"
   ]
  },
  {
   "cell_type": "markdown",
   "metadata": {},
   "source": [
    "**(c) Write a static method isDiverse that determines whether or not a given two-dimensional array is diverse**"
   ]
  },
  {
   "cell_type": "code",
   "execution_count": null,
   "metadata": {
    "vscode": {
     "languageId": "java"
    }
   },
   "outputs": [],
   "source": [
    "public static boolean isDiverse(int[][] arr2D) {\n",
    "    int[] sums = rowSums(arr2D);\n",
    "    for (int i = 0; i < sums.length - 1; i++) {\n",
    "        for (int j = i + 1; j < sums.length; j++) {\n",
    "            if (sums[i] == sums[j]) {\n",
    "                return false;\n",
    "            }\n",
    "        }\n",
    "    }\n",
    "    return true;\n",
    "}\n"
   ]
  },
  {
   "cell_type": "markdown",
   "metadata": {},
   "source": [
    "## Explanation of Each Method\n",
    "### Part (a) - arraySum Method\n",
    "- Purpose: This method calculates and returns the sum of the elements in a one-dimensional array.\n",
    "- Algorithm: It uses a simple for loop to iterate through each element of the array and adds it to the sum variable.\n",
    "\n",
    "Example:\n",
    "- Input: [1, 3, 2, 7, 3]\n",
    "- Output: 16\n",
    "\n",
    "### Part (b) - rowSums Method\n",
    "- Purpose: This method calculates the sums of each row in a two-dimensional array and returns these sums in a one-dimensional array.\n",
    "- Algorithm: It utilizes the arraySum method from part (a) to calculate the sum of each row.\n",
    "\n",
    "Example:\n",
    "- Input: [[1, 3, 2, 7, 3], [10, 10, 4, 6, 2], [5, 3, 5, 9, 6], [7, 6, 4, 2, 1]]\n",
    "- Output: [16, 32, 28, 20]\n",
    "\n",
    "### Part (c) - isDiverse Method\n",
    "- Purpose: This method checks if a two-dimensional array is diverse, meaning no two rows have the same sum.\n",
    "- Algorithm: It first calculates the row sums using the rowSums method and then checks for any duplicate sums using nested loops.\n",
    "\n",
    "Example:\n",
    "- Input (Diverse): [[1, 3, 2, 7, 3], [10, 10, 4, 6, 2], [5, 3, 5, 9, 6], [7, 6, 4, 2, 1]]\n",
    "- Output: True\n",
    "- Input (Not Diverse): [[1, 1, 5, 3, 4], [12, 7, 6, 1, 9], [8, 11, 10, 2, 5], [3, 2, 3, 0, 6]]\n",
    "- Output: False"
   ]
  },
  {
   "cell_type": "markdown",
   "metadata": {},
   "source": [
    "## Blog: Key Algorithms and Matching FRQ Types\n",
    "\n",
    "### Array/ArrayList:\n",
    "arraySum and rowSums both deal with arrays, one-dimensional and two-dimensional respectively.\n",
    "The isDiverse method works with arrays of arrays, showcasing handling of 2D arrays.\n",
    "\n",
    "### 2D Array:\n",
    "The rowSums and isDiverse methods both focus on operations with 2D arrays, calculating row sums and checking for diversity.\n",
    "In this FRQ set, we've explored Java methods and control structures, used arrays extensively, and dealt with the organization of methods within a class. These exercises offer valuable practice in handling arrays and creating effective algorithms, aligning well with the specified FRQ types.\n",
    "\n"
   ]
  },
  {
   "cell_type": "markdown",
   "metadata": {},
   "source": [
    "## Putting all of the Methods together with User Input"
   ]
  },
  {
   "cell_type": "code",
   "execution_count": 4,
   "metadata": {
    "vscode": {
     "languageId": "java"
    }
   },
   "outputs": [
    {
     "name": "stdout",
     "output_type": "stream",
     "text": [
      "Enter the number of rows: Enter the number of columns: Enter the elements of the 2D array:\n",
      "Enter element at position (0, 0): Enter element at position (0, 1): Enter element at position (0, 2): Enter element at position (1, 0): Enter element at position (1, 1): Enter element at position (1, 2): Enter element at position (2, 0): Enter element at position (2, 1): Enter element at position (2, 2): Enter element at position (3, 0): Enter element at position (3, 1): Enter element at position (3, 2): \n",
      "Input Grid:\n",
      "1 2 3 \n",
      "4 5 6 \n",
      "12 11 9 \n",
      "8 3 2 \n",
      "\n",
      "Row Sums:\n",
      "Sum of row 0: 6\n",
      "Sum of row 1: 15\n",
      "Sum of row 2: 32\n",
      "Sum of row 3: 13\n",
      "\n",
      "Is the array diverse? true\n"
     ]
    }
   ],
   "source": [
    "import java.util.Scanner;\n",
    "\n",
    "public class DiverseArray {\n",
    "\n",
    "    public static void main(String[] args) {\n",
    "        Scanner scanner = new Scanner(System.in);\n",
    "\n",
    "        // Taking input for the 2D array\n",
    "        System.out.print(\"Enter the number of rows: \");\n",
    "        int rows = scanner.nextInt();\n",
    "        System.out.print(\"Enter the number of columns: \");\n",
    "        int cols = scanner.nextInt();\n",
    "\n",
    "        int[][] arr2D = new int[rows][cols];\n",
    "\n",
    "        System.out.println(\"Enter the elements of the 2D array:\");\n",
    "        for (int i = 0; i < rows; i++) {\n",
    "            for (int j = 0; j < cols; j++) {\n",
    "                System.out.print(\"Enter element at position (\" + i + \", \" + j + \"): \");\n",
    "                arr2D[i][j] = scanner.nextInt();\n",
    "            }\n",
    "        }\n",
    "\n",
    "        // Displaying the input grid\n",
    "        System.out.println(\"\\nInput Grid:\");\n",
    "        displayGrid(arr2D);\n",
    "\n",
    "        // Calculating row sums\n",
    "        int[] sums = rowSums(arr2D);\n",
    "\n",
    "        // Checking if the array is diverse\n",
    "        boolean diverse = isDiverse(arr2D);\n",
    "\n",
    "        // Displaying results\n",
    "        System.out.println(\"\\nRow Sums:\");\n",
    "        for (int i = 0; i < rows; i++) {\n",
    "            System.out.print(\"Sum of row \" + i + \": \" + sums[i] + \"\\n\");\n",
    "        }\n",
    "\n",
    "        System.out.println(\"\\nIs the array diverse? \" + diverse);\n",
    "\n",
    "        scanner.close();\n",
    "    }\n",
    "\n",
    "    // Method to calculate sum of elements in a 1D array\n",
    "    public static int arraySum(int[] arr) {\n",
    "        int sum = 0;\n",
    "        for (int num : arr) {\n",
    "            sum += num;\n",
    "        }\n",
    "        return sum;\n",
    "    }\n",
    "\n",
    "    // Method to calculate sums of rows in a 2D array\n",
    "    public static int[] rowSums(int[][] arr2D) {\n",
    "        int[] sums = new int[arr2D.length];\n",
    "        for (int i = 0; i < arr2D.length; i++) {\n",
    "            sums[i] = arraySum(arr2D[i]);\n",
    "        }\n",
    "        return sums;\n",
    "    }\n",
    "\n",
    "    // Method to check if a 2D array is diverse\n",
    "    public static boolean isDiverse(int[][] arr2D) {\n",
    "        int[] sums = rowSums(arr2D);\n",
    "        for (int i = 0; i < sums.length - 1; i++) {\n",
    "            for (int j = i + 1; j < sums.length; j++) {\n",
    "                if (sums[i] == sums[j]) {\n",
    "                    return false;\n",
    "                }\n",
    "            }\n",
    "        }\n",
    "        return true;\n",
    "    }\n",
    "\n",
    "    // Method to display the 2D array as a grid\n",
    "    public static void displayGrid(int[][] arr2D) {\n",
    "        for (int[] row : arr2D) {\n",
    "            for (int value : row) {\n",
    "                System.out.print(value + \" \");\n",
    "            }\n",
    "            System.out.println();\n",
    "        }\n",
    "    }\n",
    "}\n",
    "DiverseArray.main(null)"
   ]
  },
  {
   "cell_type": "markdown",
   "metadata": {},
   "source": [
    "### Explanation of Code\n",
    "- The main method now utilizes a Scanner object to take input from the user for the 2D array.\n",
    "- It prompts the user to enter the number of rows and columns, then takes in the elements of the 2D array.\n",
    "- The rowSums and isDiverse methods remain the same, performing the calculations on the input array.\n",
    "- After taking input, it calculates the row sums and checks if the array is diverse.\n",
    "- Finally, it displays the row sums and whether the array is diverse based on the user input."
   ]
  }
 ],
 "metadata": {
  "kernelspec": {
   "display_name": "Java",
   "language": "java",
   "name": "java"
  },
  "language_info": {
   "codemirror_mode": "java",
   "file_extension": ".jshell",
   "mimetype": "text/x-java-source",
   "name": "Java",
   "pygments_lexer": "java",
   "version": "17.0.8+7-Ubuntu-122.04"
  }
 },
 "nbformat": 4,
 "nbformat_minor": 2
}
