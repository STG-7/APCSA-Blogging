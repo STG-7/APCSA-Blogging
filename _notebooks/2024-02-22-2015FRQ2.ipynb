{
 "cells": [
  {
   "cell_type": "markdown",
   "metadata": {},
   "source": [
    "---\n",
    "layout: post\n",
    "title: 2015 FRQ 2\n",
    "toc: true\n",
    "comments: true\n",
    "description:\n",
    "courses: { csa: {week: 21} }\n",
    "type: hacks\n",
    "---"
   ]
  },
  {
   "cell_type": "markdown",
   "metadata": {},
   "source": [
    "### Implementation of the HiddenWord class to represent the hidden word in the guessing game:"
   ]
  },
  {
   "cell_type": "code",
   "execution_count": 2,
   "metadata": {
    "vscode": {
     "languageId": "java"
    }
   },
   "outputs": [],
   "source": [
    "public class HiddenWord {\n",
    "    private String hiddenWord;\n",
    "\n",
    "    public HiddenWord(String word) {\n",
    "        hiddenWord = word;\n",
    "    }\n",
    "\n",
    "    public String getHint(String guess) {\n",
    "        StringBuilder hint = new StringBuilder();\n",
    "        for (int i = 0; i < hiddenWord.length(); i++) {\n",
    "            char guessChar = guess.charAt(i);\n",
    "            char hiddenChar = hiddenWord.charAt(i);\n",
    "            if (guessChar == hiddenChar) {\n",
    "                hint.append(hiddenChar);  // matching letter\n",
    "            } else if (hiddenWord.indexOf(guessChar) >= 0) {\n",
    "                hint.append(\"+\");  // letter in hidden word, but different position\n",
    "            } else {\n",
    "                hint.append(\"*\");  // letter not in hidden word\n",
    "            }\n",
    "        }\n",
    "        return hint.toString();\n",
    "    }\n",
    "}\n"
   ]
  },
  {
   "cell_type": "markdown",
   "metadata": {},
   "source": [
    "### Explanation\n",
    "\n",
    "Instance Variable:\n",
    "\n",
    "hiddenWord: This is a private instance variable that holds the hidden word for the game.\n",
    "\n",
    "-------------------------------------------------------------------------------------------------------------------------------------------------\n",
    "\n",
    "Constructor:\n",
    "\n",
    "HiddenWord(String word): This is the constructor that initializes the hiddenWord with the given word.\n",
    "\n",
    "-------------------------------------------------------------------------------------------------------------------------------------------------\n",
    "\n",
    "\n",
    "Method:\n",
    "\n",
    "getHint(String guess): This method takes a guess as input and produces a hint based on the comparison between the hidden word and the guess.\n",
    "- It iterates through each character in the hiddenWord and compares it with the corresponding character in the guess.\n",
    "- If the characters match, it appends the character to the hint.\n",
    "- If the character is in the hiddenWord but at a different position, it appends a '+' to the hint.\n",
    "- If the character is not in the hiddenWord, it appends a '*' to the hint.\n",
    "- Finally, it returns the hint as a String."
   ]
  },
  {
   "cell_type": "markdown",
   "metadata": {},
   "source": [
    "### Blog: Key Algorithm and Matching FRQ Type\n",
    "\n",
    "Method and Control Structure:\n",
    "- The getHint method uses if-else statements to determine the character for each position in the hint.\n",
    "- This control structure is crucial for providing the correct hint based on the comparison between the guess and the hidden word.\n",
    "\n",
    "Classes:\n",
    "- The HiddenWord class encapsulates the functionality related to the hidden word and hint generation.\n",
    "- It follows the principles of OOP (Object-Oriented Programming) by having a constructor and a method to operate on the object's state."
   ]
  },
  {
   "cell_type": "markdown",
   "metadata": {},
   "source": [
    "### Full Implemenation with User Input"
   ]
  },
  {
   "cell_type": "code",
   "execution_count": 3,
   "metadata": {
    "vscode": {
     "languageId": "java"
    }
   },
   "outputs": [
    {
     "name": "stdout",
     "output_type": "stream",
     "text": [
      "Enter the hidden word: Enter your guess (same length as hidden word): Hint: ***+*\n",
      "Enter your guess (same length as hidden word): Hint: HELL*\n",
      "Enter your guess (same length as hidden word): Hint: HELLO\n",
      "Congratulations! You guessed the word.\n"
     ]
    }
   ],
   "source": [
    "import java.util.Scanner;\n",
    "\n",
    "public class HiddenWordGame {\n",
    "    private String hiddenWord;\n",
    "\n",
    "    public HiddenWordGame(String hiddenWord) {\n",
    "        this.hiddenWord = hiddenWord;\n",
    "    }\n",
    "\n",
    "    public String getHint(String guess) {\n",
    "        StringBuilder hint = new StringBuilder();\n",
    "\n",
    "        for (int i = 0; i < hiddenWord.length(); i++) {\n",
    "            char guessChar = guess.charAt(i);\n",
    "            char hiddenChar = hiddenWord.charAt(i);\n",
    "\n",
    "            if (guessChar == hiddenChar) {\n",
    "                hint.append(hiddenChar);\n",
    "            } else if (hiddenWord.indexOf(guessChar) >= 0) {\n",
    "                hint.append(\"+\");\n",
    "            } else {\n",
    "                hint.append(\"*\");\n",
    "            }\n",
    "        }\n",
    "\n",
    "        return hint.toString();\n",
    "    }\n",
    "\n",
    "    public static void main(String[] args) {\n",
    "        Scanner scanner = new Scanner(System.in);\n",
    "\n",
    "        System.out.print(\"Enter the hidden word: \");\n",
    "        String hiddenWord = scanner.next().toUpperCase();\n",
    "        HiddenWordGame puzzle = new HiddenWordGame(hiddenWord);\n",
    "\n",
    "        while (true) {\n",
    "            System.out.print(\"Enter your guess (same length as hidden word): \");\n",
    "            String guess = scanner.next().toUpperCase();\n",
    "\n",
    "            if (guess.length() != hiddenWord.length()) {\n",
    "                System.out.println(\"Please enter a guess of the same length as the hidden word.\");\n",
    "                continue;\n",
    "            }\n",
    "\n",
    "            String hint = puzzle.getHint(guess);\n",
    "            System.out.println(\"Hint: \" + hint);\n",
    "\n",
    "            if (hint.equals(hiddenWord)) {\n",
    "                System.out.println(\"Congratulations! You guessed the word.\");\n",
    "                break;\n",
    "            }\n",
    "        }\n",
    "\n",
    "        scanner.close();\n",
    "    }\n",
    "}\n",
    "HiddenWordGame.main(null)"
   ]
  },
  {
   "cell_type": "markdown",
   "metadata": {},
   "source": [
    "### Explanation\n",
    "- The HiddenWordGame class now includes both the getHint method and the main method for user input and testing.\n",
    "- The getHint method is used to generate hints based on the comparison between the guess and the hidden word.\n",
    "- The main method takes user input for the hidden word and enters a loop to take guesses and display hints.\n",
    "- It ensures that the guess is of the same length as the hidden word and continues until the user correctly guesses the hidden word."
   ]
  }
 ],
 "metadata": {
  "kernelspec": {
   "display_name": "Java",
   "language": "java",
   "name": "java"
  },
  "language_info": {
   "codemirror_mode": "java",
   "file_extension": ".jshell",
   "mimetype": "text/x-java-source",
   "name": "Java",
   "pygments_lexer": "java",
   "version": "17.0.8+7-Ubuntu-122.04"
  }
 },
 "nbformat": 4,
 "nbformat_minor": 2
}
