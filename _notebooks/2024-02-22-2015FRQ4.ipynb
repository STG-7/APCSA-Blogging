{
 "cells": [
  {
   "cell_type": "markdown",
   "metadata": {},
   "source": [
    "---\n",
    "layout: post\n",
    "title: 2015 FRQ Question 4\n",
    "toc: true\n",
    "comments: true\n",
    "description:\n",
    "courses: { csa: {week: 21} }\n",
    "type: hacks\n",
    "---"
   ]
  },
  {
   "cell_type": "markdown",
   "metadata": {},
   "source": [
    "**(a) A number group represents a group of integers defined in some way. It could be empty, or it could contain one or more integers.**\n",
    "\n",
    "**Write an interface named NumberGroup that represents a group of integers. The interface should have a single contains method that determines if a given integer is in the group. For example, if group1 is of type NumberGroup, and it contains only the two numbers -5 and 3, then group1.contains(-5) would return true, and group1.contains(2) would return false.**\n",
    "**Write the complete NumberGroup interface. It must have exactly one method.**"
   ]
  },
  {
   "cell_type": "code",
   "execution_count": null,
   "metadata": {},
   "outputs": [],
   "source": [
    "public interface NumberGroup {\n",
    "    boolean contains(int num);\n",
    "}"
   ]
  },
  {
   "cell_type": "markdown",
   "metadata": {},
   "source": [
    "**(b) A range represents a number group that contains all (and only) the integers between a minimum value and a maximum value, inclusive.**\n",
    "**Write the Range class, which is a NumberGroup. The Range class represents the group of int values that range from a given minimum value up through a given maximum value, inclusive. For example,the declaration**\n",
    "\n",
    "NumberGroup range1 = new Range(-3, 2);\n",
    "represents the group of integer values -3, -2, -1, 0, 1, 2.\n",
    "\n",
    "Write the complete Range class. Include all necessary instance variables and methods as well as a constructor that takes two int parameters. The first parameter represents the minimum value, and the second parameter represents the maximum value of the range. You may assume that the minimum is less than or equal to the maximum."
   ]
  },
  {
   "cell_type": "code",
   "execution_count": null,
   "metadata": {},
   "outputs": [],
   "source": [
    "public class Range implements NumberGroup {\n",
    "    private int min;\n",
    "    private int max;\n",
    "\n",
    "    public Range(int min, int max) {\n",
    "        this.min = min;\n",
    "        this.max = max;\n",
    "    }\n",
    "\n",
    "    @Override\n",
    "    public boolean contains(int num) {\n",
    "        return num >= min && num <= max;\n",
    "    }\n",
    "}"
   ]
  },
  {
   "cell_type": "markdown",
   "metadata": {},
   "source": [
    "**(c) The MultipleGroups class (not shown) represents a collection of NumberGroup objects and isa NumberGroup. The MultipleGroups class stores the number groups in the instance variable groupList (shown below), which is initialized in the constructor.**\n",
    "\n",
    "private List<NumberGroup> groupList;\n",
    "\n",
    "Write the MultipleGroups method contains. The method takes an integer and returns true if and only if the integer is contained in one or more of the number groups in groupList.\n",
    "\n",
    "For example, suppose multiple1 has been declared as an instance of MultipleGroups and consists of the three ranges created by the calls new Range(5, 8), new Range(10, 12), and new Range(1, 6). The following table shows the results of several calls to contains."
   ]
  },
  {
   "cell_type": "code",
   "execution_count": null,
   "metadata": {},
   "outputs": [],
   "source": [
    "import java.util.List;\n",
    "\n",
    "public class MultipleGroups implements NumberGroup {\n",
    "    private List<NumberGroup> groupList;\n",
    "\n",
    "    public MultipleGroups(List<NumberGroup> groupList) {\n",
    "        this.groupList = groupList;\n",
    "    }\n",
    "\n",
    "    @Override\n",
    "    public boolean contains(int num) {\n",
    "        for (NumberGroup group : groupList) {\n",
    "            if (group.contains(num)) {\n",
    "                return true;\n",
    "            }\n",
    "        }\n",
    "        return false;\n",
    "    }\n",
    "}\n"
   ]
  },
  {
   "cell_type": "markdown",
   "metadata": {},
   "source": [
    "### Final Integration with User Input "
   ]
  },
  {
   "cell_type": "code",
   "execution_count": null,
   "metadata": {},
   "outputs": [],
   "source": [
    "import java.util.*;\n",
    "\n",
    "public interface NumberGroup {\n",
    "    boolean contains(int num);\n",
    "}\n",
    "\n",
    "public class Range implements NumberGroup {\n",
    "    private int min;\n",
    "    private int max;\n",
    "\n",
    "    public Range(int min, int max) {\n",
    "        this.min = min;\n",
    "        this.max = max;\n",
    "    }\n",
    "\n",
    "    @Override\n",
    "    public boolean contains(int num) {\n",
    "        return num >= min && num <= max;\n",
    "    }\n",
    "}\n",
    "\n",
    "public class MultipleGroups implements NumberGroup {\n",
    "    private List<NumberGroup> groupList;\n",
    "\n",
    "    public MultipleGroups(List<NumberGroup> groupList) {\n",
    "        this.groupList = groupList;\n",
    "    }\n",
    "\n",
    "    @Override\n",
    "    public boolean contains(int num) {\n",
    "        for (NumberGroup group : groupList) {\n",
    "            if (group.contains(num)) {\n",
    "                return true;\n",
    "            }\n",
    "        }\n",
    "        return false;\n",
    "    }\n",
    "}\n",
    "\n",
    "public class Main {\n",
    "    public static void main(String[] args) {\n",
    "        Scanner scanner = new Scanner(System.in);\n",
    "\n",
    "        // Create a list of NumberGroups (Ranges)\n",
    "        List<NumberGroup> groups = new ArrayList<>();\n",
    "        groups.add(new Range(5, 8));\n",
    "        groups.add(new Range(10, 12));\n",
    "        groups.add(new Range(1, 6));\n",
    "\n",
    "        // Create a MultipleGroups object with the list of ranges\n",
    "        MultipleGroups multiple1 = new MultipleGroups(groups);\n",
    "\n",
    "        // Test the contains method\n",
    "        System.out.println(\"Testing MultipleGroups:\");\n",
    "        System.out.print(\"Enter a number to check if it's contained in the groups: \");\n",
    "        int num = scanner.nextInt();\n",
    "\n",
    "        if (multiple1.contains(num)) {\n",
    "            System.out.println(num + \" is contained in the groups.\");\n",
    "        } else {\n",
    "            System.out.println(num + \" is not contained in the groups.\");\n",
    "        }\n",
    "\n",
    "        scanner.close();\n",
    "    }\n",
    "}\n",
    "Main.main(null)"
   ]
  },
  {
   "cell_type": "markdown",
   "metadata": {},
   "source": [
    "### Explanation\n",
    "\n",
    "NumberGroup Interface:\n",
    "- Represents a group of integers with a single contains method.\n",
    "\n",
    "Range Class:\n",
    "- Implements the NumberGroup interface.\n",
    "- Represents a range of integers from min to max, inclusive.\n",
    "- The contains method checks if a given number is within this range.\n",
    "\n",
    "MultipleGroups Class:\n",
    "- Also implements the NumberGroup interface.\n",
    "- Represents a collection of NumberGroup objects.\n",
    "- The contains method checks if the input number is contained in any of the NumberGroup objects stored in groupList.\n",
    "\n",
    "Main Class:\n",
    "- Creates a list of NumberGroup objects (Ranges).\n",
    "- Creates a MultipleGroups object with the list of ranges.\n",
    "- Uses a Scanner to get user input and tests the contains method of MultipleGroups."
   ]
  },
  {
   "cell_type": "markdown",
   "metadata": {},
   "source": [
    "## Explanation of FRQ Type\n",
    "\n",
    "\n",
    "Classes: \n",
    "\n",
    "The program defines three classes: \n",
    "- NumberGroup (interface)\n",
    "- Range (implements NumberGroup)\n",
    "- MultipleGroups (also implements NumberGroup)\n",
    "\n",
    "Each class has its own set of attributes and behaviors, adhering to the principles of object-oriented programming.\n",
    "\n",
    "\n",
    "\n"
   ]
  }
 ],
 "metadata": {
  "kernelspec": {
   "display_name": "Java",
   "language": "java",
   "name": "java"
  },
  "language_info": {
   "name": "java"
  }
 },
 "nbformat": 4,
 "nbformat_minor": 2
}
