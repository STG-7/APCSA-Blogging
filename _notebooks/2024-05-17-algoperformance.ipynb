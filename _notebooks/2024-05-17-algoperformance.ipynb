{
 "cells": [
  {
   "cell_type": "markdown",
   "metadata": {},
   "source": [
    "---\n",
    "toc: true \n",
    "comments: true \n",
    "layout: post \n",
    "title: Algorithmic Code Prep\n",
    "description: Algo Code Prep\n",
    "type: hacks \n",
    "courses: { csa: {week: 30} } \n",
    "---"
   ]
  },
  {
   "cell_type": "markdown",
   "metadata": {},
   "source": [
    "[Link to all Practices](https://drive.google.com/drive/folders/1sm09q5M8x5CAnDn-UGvRn6IRi0X9T6o_)\n",
    "\n",
    "[Link to Script](https://docs.google.com/document/d/1rH6CcfP8sR_Vjc1IAZzKdsvH1dyeq6W67gpm9UACqYo/edit#heading=h.70rljq2ihlmu)\n",
    "\n",
    "**My Role - Technical Narrator**\n",
    "\n",
    "Description of Role: \n",
    "- Explains and demonstrates the insertion sort algorithm\n",
    "- Shows how to organize the characters by the length of their pool noodles\n",
    "- Guides the characters through each step of the sorting process, ensuring everyone understands how and why they are being repositioned"
   ]
  }
 ],
 "metadata": {
  "language_info": {
   "name": "python"
  }
 },
 "nbformat": 4,
 "nbformat_minor": 2
}
