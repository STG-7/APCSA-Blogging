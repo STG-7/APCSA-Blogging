{
 "cells": [
  {
   "cell_type": "markdown",
   "metadata": {},
   "source": [
    "---\n",
    "toc: true \n",
    "comments: true \n",
    "layout: post \n",
    "title: Algorithmic Code Prep\n",
    "description: Algo Code Prep\n",
    "type: hacks \n",
    "courses: { csa: {week: 30} } \n",
    "---"
   ]
  },
  {
   "cell_type": "markdown",
   "metadata": {},
   "source": [
    "[Link to all Practices](https://drive.google.com/drive/folders/1sm09q5M8x5CAnDn-UGvRn6IRi0X9T6o_)\n",
    "\n",
    "[Link to Script](https://docs.google.com/document/d/1rH6CcfP8sR_Vjc1IAZzKdsvH1dyeq6W67gpm9UACqYo/edit#heading=h.70rljq2ihlmu)\n",
    "\n",
    "**My Role - Technical Narrator**\n",
    "\n",
    "Description of Role: \n",
    "- Explains and demonstrates the insertion sort algorithm\n",
    "- Shows how to organize the characters by the length of their pool noodles\n",
    "- Guides the characters through each step of the sorting process, ensuring everyone understands how and why they are being repositioned\n",
    "\n",
    "What the Judges Said:\n",
    "\n",
    "\n",
    "| Criteria                  | Judge| Score | Feedback|\n",
    "|---------------------------|-|-------|-|\n",
    "| Algorithmic Accuracy      |  Erika Larsen, Reanna Hightower (Math Department co-chairs)| 9     |  Wanted the numbers to be readable|\n",
    "| Artistic Impression       | Patrick Coleman (Arts and Electives chair)| 9     | Liked the music, also wanted the numbers to be readable|\n",
    "| Career Ready              | Nandhu Nandakumar (CTO Alat, VP LG, Father of 2 former DN CS students in UCs)| 9     | Said that he struggled to maintain focus of both quick sort and bogo sort but liked the comparison|\n",
    "| Career / College Juggling | Tristan Copley (Del Norte 2023, Zenith R&D, Miramar College) |9 | Also liked the comparison between quick sort and bogo sort|\n",
    "| College Ready             | Abhijay Devi (Del Norte 2022, UCSD CS Major) | 9     | Liked the entire scene, also wanted the numbers to be readable|\n",
    "\n",
    "### Things We Did Great On\n",
    "- Delivery was on point\n",
    "- Outfits and theme were on point\n",
    "- Facing and centered towards the audience well\n",
    "- Great usage of spacing\n",
    "\n",
    "\n",
    "### Things We Could've Done Better\n",
    "- Better coordination\n",
    "- Speaking with better vocal tone\n",
    "- More accurate with the Algorithm (messed up once with the swap)\n",
    "\n",
    "### Other Performances\n",
    "Tanisha's group tackled Bubble Sort with a captivating dating show concept, blending humor and clarity to make the sorting method accessible. Ethan's group presented Merge Sort with a visually impactful demonstration, enhancing understanding.\n",
    "\n",
    "The third performance, centered around Bubble Sort with a \"bachelorette\" theme, offered an entertaining twist to algorithmic concepts. The fourth performance, styled as a Murder Mystery play, used theatrical execution to explain algorithms, demonstrating innovative ways to engage and educate the audience. Each performance showcased diverse, creative interpretations, making the learning experience enjoyable and memorable.\n",
    "\n",
    "\n",
    "\n",
    "\n",
    "\n",
    "\n",
    "\n"
   ]
  }
 ],
 "metadata": {
  "language_info": {
   "name": "python"
  }
 },
 "nbformat": 4,
 "nbformat_minor": 2
}
