{
 "cells": [
  {
   "cell_type": "markdown",
   "metadata": {},
   "source": [
    "---\n",
    "layout: post\n",
    "title: 2015 FRQ Question 3\n",
    "toc: true\n",
    "comments: true\n",
    "description:\n",
    "courses: { csa: {week: 21} }\n",
    "type: hacks\n",
    "---"
   ]
  },
  {
   "cell_type": "markdown",
   "metadata": {},
   "source": [
    "**(a) Write the SparseArray method getValueAt. The method returns the value of the sparse array element at a given row and column in the sparse array. If the list entries contains an entry with the specified row and column, the value associated with the entry is returned. If there is no entry in entries corresponding to the specified row and column, 0 is returned.**"
   ]
  },
  {
   "cell_type": "code",
   "execution_count": null,
   "metadata": {
    "vscode": {
     "languageId": "java"
    }
   },
   "outputs": [],
   "source": [
    "public int getValueAt(int row, int col) {\n",
    "    // Iterate through entries to find the matching element\n",
    "    for (SparseArrayEntry entry : entries) {\n",
    "        if (entry.getRow() == row && entry.getCol() == col) {\n",
    "            return entry.getValue();\n",
    "        }\n",
    "    }\n",
    "    return 0;  // If no match found, return 0\n",
    "}\n"
   ]
  },
  {
   "cell_type": "markdown",
   "metadata": {},
   "source": [
    "This method loops through the entries list of SparseArrayEntry objects. For each entry, it checks if the row and column match the specified row and col parameters. If a match is found, it returns the value of that entry. If no match is found after looping through all entries, it returns 0."
   ]
  },
  {
   "cell_type": "markdown",
   "metadata": {},
   "source": [
    "**(b) Write the SparseArray method removeColumn. After removing a specified column from a sparsearray:**"
   ]
  },
  {
   "cell_type": "code",
   "execution_count": null,
   "metadata": {
    "vscode": {
     "languageId": "java"
    }
   },
   "outputs": [],
   "source": [
    "public void removeColumn(int col) {\n",
    "    // Remove entries with matching column\n",
    "    entries.removeIf(entry -> entry.getCol() == col);\n",
    "\n",
    "    // Adjust column indexes for entries with col > specified col\n",
    "    for (SparseArrayEntry entry : entries) {\n",
    "        if (entry.getCol() > col) {\n",
    "            entry = new SparseArrayEntry(entry.getRow(), entry.getCol() - 1, entry.getValue());\n",
    "        }\n",
    "    }\n",
    "\n",
    "    numCols--;  // Adjust number of columns\n",
    "}\n"
   ]
  },
  {
   "cell_type": "markdown",
   "metadata": {},
   "source": [
    "- We use the removeIf method to remove entries with a column matching col.\n",
    "- Then, we loop through all entries. If an entry has a column greater than col, we create a new SparseArrayEntry with the column decremented by one.\n",
    "- Finally, we decrement the numCols variable to reflect the removal of the column."
   ]
  },
  {
   "cell_type": "markdown",
   "metadata": {},
   "source": [
    "### Blog: Key Algorithm and Matching FRQ Type\n",
    "\n",
    "Method and Control Structure:\n",
    "- In getValueAt, we use a for-each loop to iterate through entries and check for the matching row and column.\n",
    "- The removeColumn method utilizes loops and conditionals to remove entries and adjust column indexes.\n",
    "\n",
    "Array/ArrayList:\n",
    "- The entries list in the SparseArray class is an ArrayList that stores SparseArrayEntry objects.\n",
    "\n",
    "In this implementation, we have completed the getValueAt and removeColumn methods for the SparseArray class. These methods adhere to the specifications given in the FRQ, providing functionality to access and manipulate sparse arrays efficiently."
   ]
  },
  {
   "cell_type": "markdown",
   "metadata": {},
   "source": [
    "### Final Integration of Class with User Input "
   ]
  },
  {
   "cell_type": "code",
   "execution_count": 2,
   "metadata": {
    "vscode": {
     "languageId": "java"
    }
   },
   "outputs": [
    {
     "name": "stdout",
     "output_type": "stream",
     "text": [
      "Enter number of rows: Enter number of columns: Enter sparse array entries in the format: row col value\n",
      "Enter value for row 0 column 0: Enter value for row 0 column 1: Enter value for row 0 column 2: Enter value for row 1 column 0: Enter value for row 1 column 1: Enter value for row 1 column 2: Enter value for row 2 column 0: Enter value for row 2 column 1: Enter value for row 2 column 2: Enter value for row 3 column 0: Enter value for row 3 column 1: Enter value for row 3 column 2: Sparse Array Entries:\n",
      "1 1 2\n",
      "1 2 1\n",
      "Enter the row to get value from: Enter the column to get value from: Value at (0, 2): 0\n",
      "Enter the column to remove: Sparse Array Entries after removing column 1:\n",
      "1 2 1\n"
     ]
    }
   ],
   "source": [
    "import java.util.ArrayList;\n",
    "import java.util.List;\n",
    "import java.util.Scanner;\n",
    "\n",
    "class SparseArrayEntry {\n",
    "    private int row;\n",
    "    private int col;\n",
    "    private int value;\n",
    "\n",
    "    public SparseArrayEntry(int r, int c, int v) {\n",
    "        row = r;\n",
    "        col = c;\n",
    "        value = v;\n",
    "    }\n",
    "\n",
    "    public int getRow() {\n",
    "        return row;\n",
    "    }\n",
    "\n",
    "    public int getCol() {\n",
    "        return col;\n",
    "    }\n",
    "\n",
    "    public int getValue() {\n",
    "        return value;\n",
    "    }\n",
    "}\n",
    "\n",
    "public class SparseArray {\n",
    "    private int numRows;\n",
    "    private int numCols;\n",
    "    private List<SparseArrayEntry> entries;\n",
    "\n",
    "    public SparseArray() {\n",
    "        entries = new ArrayList<>();\n",
    "    }\n",
    "\n",
    "    public int getNumRows() {\n",
    "        return numRows;\n",
    "    }\n",
    "\n",
    "    public int getNumCols() {\n",
    "        return numCols;\n",
    "    }\n",
    "\n",
    "    public int getValueAt(int row, int col) {\n",
    "        // Iterate through entries to find the matching element\n",
    "        for (SparseArrayEntry entry : entries) {\n",
    "            if (entry.getRow() == row && entry.getCol() == col) {\n",
    "                return entry.getValue();\n",
    "            }\n",
    "        }\n",
    "        return 0;  // If no match found, return 0\n",
    "    }\n",
    "\n",
    "    public void removeColumn(int col) {\n",
    "        // Remove entries with matching column\n",
    "        entries.removeIf(entry -> entry.getCol() == col);\n",
    "\n",
    "        // Adjust column indexes for entries with col > specified col\n",
    "        for (SparseArrayEntry entry : entries) {\n",
    "            if (entry.getCol() > col) {\n",
    "                entry = new SparseArrayEntry(entry.getRow(), entry.getCol() - 1, entry.getValue());\n",
    "            }\n",
    "        }\n",
    "\n",
    "        numCols--;  // Adjust number of columns\n",
    "    }\n",
    "\n",
    "    public void addEntry(SparseArrayEntry entry) {\n",
    "        entries.add(entry);\n",
    "        numRows = Math.max(numRows, entry.getRow() + 1);\n",
    "        numCols = Math.max(numCols, entry.getCol() + 1);\n",
    "    }\n",
    "\n",
    "    public void printEntries() {\n",
    "        for (SparseArrayEntry entry : entries) {\n",
    "            System.out.println(entry.getRow() + \" \" + entry.getCol() + \" \" + entry.getValue());\n",
    "        }\n",
    "    }\n",
    "\n",
    "    public static void main(String[] args) {\n",
    "        Scanner scanner = new Scanner(System.in);\n",
    "        SparseArray sparse = new SparseArray();\n",
    "\n",
    "        System.out.print(\"Enter number of rows: \");\n",
    "        int numRows = scanner.nextInt();\n",
    "        System.out.print(\"Enter number of columns: \");\n",
    "        int numCols = scanner.nextInt();\n",
    "        scanner.nextLine();  // Consume newline\n",
    "\n",
    "        System.out.println(\"Enter sparse array entries in the format: row col value\");\n",
    "        for (int i = 0; i < numRows; i++) {\n",
    "            for (int j = 0; j < numCols; j++) {\n",
    "                System.out.print(\"Enter value for row \" + i + \" column \" + j + \": \");\n",
    "                int value = scanner.nextInt();\n",
    "                if (value != 0) {\n",
    "                    sparse.addEntry(new SparseArrayEntry(i, j, value));\n",
    "                }\n",
    "            }\n",
    "        }\n",
    "\n",
    "        System.out.println(\"Sparse Array Entries:\");\n",
    "        sparse.printEntries();\n",
    "\n",
    "        System.out.print(\"Enter the row to get value from: \");\n",
    "        int getRow = scanner.nextInt();\n",
    "        System.out.print(\"Enter the column to get value from: \");\n",
    "        int getCol = scanner.nextInt();\n",
    "\n",
    "        int retrievedValue = sparse.getValueAt(getRow, getCol);\n",
    "        System.out.println(\"Value at (\" + getRow + \", \" + getCol + \"): \" + retrievedValue);\n",
    "\n",
    "        System.out.print(\"Enter the column to remove: \");\n",
    "        int removeCol = scanner.nextInt();\n",
    "        sparse.removeColumn(removeCol);\n",
    "\n",
    "        System.out.println(\"Sparse Array Entries after removing column \" + removeCol + \":\");\n",
    "        sparse.printEntries();\n",
    "\n",
    "        scanner.close();\n",
    "    }\n",
    "}\n",
    "SparseArray.main(null)\n"
   ]
  },
  {
   "cell_type": "markdown",
   "metadata": {},
   "source": [
    "### Explanation\n",
    "\n",
    "- We have added a Scanner object scanner to read user input.\n",
    "- The main method now prompts the user to input the number of rows and columns for the sparse array.\n",
    "- It then allows the user to input values for each position in the sparse array.\n",
    "- After inputting the values, it prints the sparse array entries.\n",
    "- Next, it prompts the user to enter a row and column to get the value from, and it retrieves and prints that value.\n",
    "- Finally, it asks the user for a column to remove and prints the sparse array entries after removing that column."
   ]
  }
 ],
 "metadata": {
  "kernelspec": {
   "display_name": "Java",
   "language": "java",
   "name": "java"
  },
  "language_info": {
   "codemirror_mode": "java",
   "file_extension": ".jshell",
   "mimetype": "text/x-java-source",
   "name": "Java",
   "pygments_lexer": "java",
   "version": "17.0.8+7-Ubuntu-122.04"
  }
 },
 "nbformat": 4,
 "nbformat_minor": 2
}
